{
 "cells": [
  {
   "cell_type": "markdown",
   "id": "909b1b3f-782c-468c-8b5c-de9c5edfaa35",
   "metadata": {},
   "source": [
    "# Assighnment-2"
   ]
  },
  {
   "cell_type": "markdown",
   "id": "989fddb1-7181-47d8-9847-2a70d0ef6e7b",
   "metadata": {},
   "source": [
    " # 1) Write a python program that swaps the values of two variables."
   ]
  },
  {
   "cell_type": "code",
   "execution_count": 3,
   "id": "04bf7e9a-3698-4015-aa6b-7d7069e00bbf",
   "metadata": {},
   "outputs": [
    {
     "name": "stdout",
     "output_type": "stream",
     "text": [
      "Before swap:\n",
      "a = 5, b = 10\n",
      "After swap:\n",
      "a = 10, b = 5\n"
     ]
    }
   ],
   "source": [
    "# Swapping the values of two variables\n",
    "def swap_values(a, b):\n",
    "    print(\"Before swap:\")\n",
    "    print(f\"a = {a}, b = {b}\")\n",
    "    \n",
    "    # Swapping using a temporary variable\n",
    "    temp = a\n",
    "    a = b\n",
    "    b = temp\n",
    "    \n",
    "    print(\"After swap:\")\n",
    "    print(f\"a = {a}, b = {b}\")\n",
    "\n",
    "# Example usage\n",
    "x = 5\n",
    "y = 10\n",
    "swap_values(x, y)\n"
   ]
  },
  {
   "cell_type": "markdown",
   "id": "3038e1de-af2a-4e4d-ba38-4545bce29142",
   "metadata": {},
   "source": [
    "# 2) Write a python program that calculates the area of a rectangle given its length and width."
   ]
  },
  {
   "cell_type": "code",
   "execution_count": 4,
   "id": "c378509f-1e84-43a8-9fd1-77be0e87524e",
   "metadata": {},
   "outputs": [
    {
     "name": "stdout",
     "output_type": "stream",
     "text": [
      "The area of the rectangle is 50 square units.\n"
     ]
    }
   ],
   "source": [
    "# Function to calculate the area of a rectangle\n",
    "def calculate_area(length, width):\n",
    "    area = length * width\n",
    "    return area\n",
    "\n",
    "# Example usage\n",
    "length = 10\n",
    "width = 5\n",
    "\n",
    "area = calculate_area(length, width)\n",
    "print(f\"The area of the rectangle is {area} square units.\")\n"
   ]
  },
  {
   "cell_type": "markdown",
   "id": "925614aa-3299-4f27-9458-d0c433ad8b94",
   "metadata": {},
   "source": [
    "# 3) Write a python program that converts temperature from Fahrenheit to Celsius."
   ]
  },
  {
   "cell_type": "code",
   "execution_count": 5,
   "id": "1f13f2fa-df57-43f9-a8a6-036fcd99c9f9",
   "metadata": {},
   "outputs": [
    {
     "name": "stdout",
     "output_type": "stream",
     "text": [
      "98.6°F is equal to 37.00°C.\n"
     ]
    }
   ],
   "source": [
    "# Function to convert Fahrenheit to Celsius\n",
    "def fahrenheit_to_celsius(fahrenheit):\n",
    "    celsius = (fahrenheit - 32) * 5/9\n",
    "    return celsius\n",
    "\n",
    "# Example usage\n",
    "fahrenheit = 98.6\n",
    "\n",
    "celsius = fahrenheit_to_celsius(fahrenheit)\n",
    "print(f\"{fahrenheit}°F is equal to {celsius:.2f}°C.\")\n"
   ]
  },
  {
   "cell_type": "markdown",
   "id": "f6dc789c-188e-4c74-9a2f-780e5293eb64",
   "metadata": {},
   "source": [
    "# 4) Write a python program that calculates the volume of a sphere given its radius"
   ]
  },
  {
   "cell_type": "code",
   "execution_count": 6,
   "id": "84e3565e-f0c5-4fad-8564-98ec6011f346",
   "metadata": {},
   "outputs": [
    {
     "name": "stdout",
     "output_type": "stream",
     "text": [
      "The volume of the sphere with radius 7 units is 1436.76 cubic units.\n"
     ]
    }
   ],
   "source": [
    "import math\n",
    "\n",
    "# Function to calculate the volume of a sphere\n",
    "def calculate_volume(radius):\n",
    "    volume = (4/3) * math.pi * radius**3\n",
    "    return volume\n",
    "\n",
    "# Example usage\n",
    "radius = 7\n",
    "\n",
    "volume = calculate_volume(radius)\n",
    "print(f\"The volume of the sphere with radius {radius} units is {volume:.2f} cubic units.\")\n"
   ]
  },
  {
   "cell_type": "markdown",
   "id": "6e42ee3b-42fc-4458-9000-250fd1f73d55",
   "metadata": {},
   "source": [
    "# 5) Write a python program that finds the average of three numbers."
   ]
  },
  {
   "cell_type": "code",
   "execution_count": 9,
   "id": "1edbeebb-2cc1-4a6c-bbf5-8cf36746d944",
   "metadata": {},
   "outputs": [
    {
     "name": "stdout",
     "output_type": "stream",
     "text": [
      "The average of 10, 20, and 30 is 20.00.\n"
     ]
    }
   ],
   "source": [
    "# Function to calculate the average of three numbers\n",
    "def calculate_average(num1, num2, num3):\n",
    "    average = (num1 + num2 + num3) / 3\n",
    "    return average\n",
    "\n",
    "# Example usage\n",
    "number1 = 10\n",
    "number2 = 20\n",
    "number3 = 30\n",
    "\n",
    "average = calculate_average(number1, number2, number3)\n",
    "print(f\"The average of {number1}, {number2}, and {number3} is {average:.2f}.\")\n"
   ]
  },
  {
   "cell_type": "markdown",
   "id": "834a90ef-6678-435f-a533-c2c1155eb88c",
   "metadata": {},
   "source": [
    "# 6) Write a python program that determines if a number is even or odd."
   ]
  },
  {
   "cell_type": "code",
   "execution_count": 11,
   "id": "6b88dab1-def0-4da3-97fc-dd6b9e44c83f",
   "metadata": {},
   "outputs": [
    {
     "name": "stdout",
     "output_type": "stream",
     "text": [
      "The number 7 is odd.\n"
     ]
    }
   ],
   "source": [
    "# Function to check if a number is even or odd\n",
    "def check_even_or_odd(number):\n",
    "    if number % 2 == 0:\n",
    "        return \"even\"\n",
    "    else:\n",
    "        return \"odd\"\n",
    "\n",
    "# Example usage\n",
    "number = 7\n",
    "\n",
    "result = check_even_or_odd(number)\n",
    "print(f\"The number {number} is {result}.\")\n"
   ]
  },
  {
   "cell_type": "markdown",
   "id": "c208a04f-3edd-4ca7-a590-909897507b54",
   "metadata": {},
   "source": [
    "# 7)Write a python program that finds the maximum of three numbers."
   ]
  },
  {
   "cell_type": "code",
   "execution_count": 12,
   "id": "fe21171f-038b-460c-8ecc-e7c2225ed751",
   "metadata": {},
   "outputs": [
    {
     "name": "stdout",
     "output_type": "stream",
     "text": [
      "The maximum of 10, 25, and 15 is 25.\n"
     ]
    }
   ],
   "source": [
    "# Function to find the maximum of three numbers\n",
    "def find_maximum(num1, num2, num3):\n",
    "    if num1 >= num2 and num1 >= num3:\n",
    "        return num1\n",
    "    elif num2 >= num1 and num2 >= num3:\n",
    "        return num2\n",
    "    else:\n",
    "        return num3\n",
    "\n",
    "# Example usage\n",
    "number1 = 10\n",
    "number2 = 25\n",
    "number3 = 15\n",
    "\n",
    "maximum = find_maximum(number1, number2, number3)\n",
    "print(f\"The maximum of {number1}, {number2}, and {number3} is {maximum}.\")\n"
   ]
  },
  {
   "cell_type": "markdown",
   "id": "b5d9a975-acb3-49e9-91f0-de147cbd5985",
   "metadata": {},
   "source": [
    "# 8)Write a python program that determines if a year is a leap year or not."
   ]
  },
  {
   "cell_type": "code",
   "execution_count": 13,
   "id": "9be7077b-1326-4a9e-b438-5358d3a590b3",
   "metadata": {},
   "outputs": [
    {
     "name": "stdout",
     "output_type": "stream",
     "text": [
      "2024 is a leap year.\n"
     ]
    }
   ],
   "source": [
    "# Function to check if a year is a leap year\n",
    "def is_leap_year(year):\n",
    "    if (year % 4 == 0 and year % 100 != 0) or (year % 400 == 0):\n",
    "        return True\n",
    "    else:\n",
    "        return False\n",
    "\n",
    "# Example usage\n",
    "year = 2024\n",
    "\n",
    "if is_leap_year(year):\n",
    "    print(f\"{year} is a leap year.\")\n",
    "else:\n",
    "    print(f\"{year} is not a leap year.\")\n"
   ]
  },
  {
   "cell_type": "markdown",
   "id": "e27d0729-ce27-40f4-86b8-00705a06b49f",
   "metadata": {},
   "source": [
    "# 9)Write a python program that determines if a number is positive, negative, or zero"
   ]
  },
  {
   "cell_type": "code",
   "execution_count": 14,
   "id": "1861d8c2-19fd-42de-83d0-e7144deb4931",
   "metadata": {},
   "outputs": [
    {
     "name": "stdout",
     "output_type": "stream",
     "text": [
      "The number -5 is negative.\n"
     ]
    }
   ],
   "source": [
    "# Function to check if a number is positive, negative, or zero\n",
    "def check_number_sign(number):\n",
    "    if number > 0:\n",
    "        return \"positive\"\n",
    "    elif number < 0:\n",
    "        return \"negative\"\n",
    "    else:\n",
    "        return \"zero\"\n",
    "\n",
    "# Example usage\n",
    "number = -5\n",
    "\n",
    "result = check_number_sign(number)\n",
    "print(f\"The number {number} is {result}.\")\n"
   ]
  },
  {
   "cell_type": "markdown",
   "id": "2b6eac9b-31d9-430e-8b2c-b6b9b3d69867",
   "metadata": {},
   "source": [
    "# 10)Write a python program that calculates the grade based on a given percentage"
   ]
  },
  {
   "cell_type": "code",
   "execution_count": 15,
   "id": "41ef3a39-998b-40ec-9ad2-5b2c142c2c3c",
   "metadata": {},
   "outputs": [
    {
     "name": "stdout",
     "output_type": "stream",
     "text": [
      "A percentage of 85% corresponds to grade B.\n"
     ]
    }
   ],
   "source": [
    "# Function to calculate grade based on percentage\n",
    "def calculate_grade(percentage):\n",
    "    if percentage >= 90:\n",
    "        return \"A\"\n",
    "    elif percentage >= 80:\n",
    "        return \"B\"\n",
    "    elif percentage >= 70:\n",
    "        return \"C\"\n",
    "    elif percentage >= 60:\n",
    "        return \"D\"\n",
    "    elif percentage >= 50:\n",
    "        return \"E\"\n",
    "    else:\n",
    "        return \"F\"\n",
    "\n",
    "# Example usage\n",
    "percentage = 85\n",
    "\n",
    "grade = calculate_grade(percentage)\n",
    "print(f\"A percentage of {percentage}% corresponds to grade {grade}.\")\n"
   ]
  },
  {
   "cell_type": "markdown",
   "id": "4679cd97-3092-458e-b601-943f771a56c9",
   "metadata": {},
   "source": [
    "# 11) Write a python program that prints the first `n` natural numbers"
   ]
  },
  {
   "cell_type": "code",
   "execution_count": 16,
   "id": "1254aa1f-8cf5-4dda-935f-6f2e0a830b32",
   "metadata": {},
   "outputs": [
    {
     "name": "stdout",
     "output_type": "stream",
     "text": [
      "The first 10 natural numbers are:\n",
      "1 2 3 4 5 6 7 8 9 10 \n"
     ]
    }
   ],
   "source": [
    "# Function to print the first n natural numbers\n",
    "def print_natural_numbers(n):\n",
    "    for i in range(1, n + 1):\n",
    "        print(i, end=' ')\n",
    "    print()  # To ensure a newline after printing all numbers\n",
    "\n",
    "# Example usage\n",
    "n = 10\n",
    "\n",
    "print(f\"The first {n} natural numbers are:\")\n",
    "print_natural_numbers(n)\n"
   ]
  },
  {
   "cell_type": "markdown",
   "id": "bf43c604-154e-4f9a-8a55-1d51ba140783",
   "metadata": {},
   "source": [
    "# 12) Write a python program that calculates the factorial of a number"
   ]
  },
  {
   "cell_type": "code",
   "execution_count": 17,
   "id": "28464f1c-6d50-4f10-be15-059be222eac3",
   "metadata": {},
   "outputs": [
    {
     "name": "stdout",
     "output_type": "stream",
     "text": [
      "The factorial of 5 is 120.\n"
     ]
    }
   ],
   "source": [
    "# Function to calculate the factorial of a number\n",
    "def factorial(n):\n",
    "    if n == 0 or n == 1:\n",
    "        return 1\n",
    "    else:\n",
    "        return n * factorial(n - 1)\n",
    "\n",
    "# Example usage\n",
    "number = 5\n",
    "\n",
    "result = factorial(number)\n",
    "print(f\"The factorial of {number} is {result}.\")\n"
   ]
  },
  {
   "cell_type": "markdown",
   "id": "10acd876-f4f3-4605-885e-4db7c63cb53a",
   "metadata": {},
   "source": [
    "# 13) Write a python program that generates a Fibonacci sequence of length `n`."
   ]
  },
  {
   "cell_type": "code",
   "execution_count": 18,
   "id": "99ce4c44-ce64-4d30-b64c-3a4da2fa9901",
   "metadata": {},
   "outputs": [
    {
     "name": "stdout",
     "output_type": "stream",
     "text": [
      "The Fibonacci sequence of length 10 is:\n",
      "[0, 1, 1, 2, 3, 5, 8, 13, 21, 34]\n"
     ]
    }
   ],
   "source": [
    "# Function to generate a Fibonacci sequence of length n\n",
    "def fibonacci_sequence(n):\n",
    "    sequence = []\n",
    "    a, b = 0, 1\n",
    "    while len(sequence) < n:\n",
    "        sequence.append(a)\n",
    "        a, b = b, a + b\n",
    "    return sequence\n",
    "\n",
    "# Example usage\n",
    "n = 10\n",
    "\n",
    "fib_sequence = fibonacci_sequence(n)\n",
    "print(f\"The Fibonacci sequence of length {n} is:\")\n",
    "print(fib_sequence)\n"
   ]
  },
  {
   "cell_type": "markdown",
   "id": "cb04e232-3951-4a4a-8df5-e1a0d88bb5e5",
   "metadata": {},
   "source": [
    "# 14) Write a python program that checks if a given number is prime or not"
   ]
  },
  {
   "cell_type": "code",
   "execution_count": 19,
   "id": "b8d8d6fc-af30-4ab7-8e08-679e954faac2",
   "metadata": {},
   "outputs": [
    {
     "name": "stdout",
     "output_type": "stream",
     "text": [
      "29 is a prime number.\n"
     ]
    }
   ],
   "source": [
    "# Function to check if a number is prime\n",
    "def is_prime(number):\n",
    "    if number <= 1:\n",
    "        return False\n",
    "    elif number <= 3:\n",
    "        return True\n",
    "    elif number % 2 == 0 or number % 3 == 0:\n",
    "        return False\n",
    "    i = 5\n",
    "    while i * i <= number:\n",
    "        if number % i == 0 or number % (i + 2) == 0:\n",
    "            return False\n",
    "        i += 6\n",
    "    return True\n",
    "\n",
    "# Example usage\n",
    "number = 29\n",
    "\n",
    "if is_prime(number):\n",
    "    print(f\"{number} is a prime number.\")\n",
    "else:\n",
    "    print(f\"{number} is not a prime number.\")\n"
   ]
  },
  {
   "cell_type": "markdown",
   "id": "cc20da94-cb09-46a7-8a7f-61d891df9269",
   "metadata": {},
   "source": [
    "# 15) Write a python program that prints the multiplication table of a given number"
   ]
  },
  {
   "cell_type": "code",
   "execution_count": 20,
   "id": "63e8f9b1-294b-4dc8-a2dd-5a5eee97661d",
   "metadata": {},
   "outputs": [
    {
     "name": "stdout",
     "output_type": "stream",
     "text": [
      "Multiplication table for 7:\n",
      "7 x 1 = 7\n",
      "7 x 2 = 14\n",
      "7 x 3 = 21\n",
      "7 x 4 = 28\n",
      "7 x 5 = 35\n",
      "7 x 6 = 42\n",
      "7 x 7 = 49\n",
      "7 x 8 = 56\n",
      "7 x 9 = 63\n",
      "7 x 10 = 70\n"
     ]
    }
   ],
   "source": [
    "# Function to print the multiplication table of a given number\n",
    "def print_multiplication_table(number, up_to=10):\n",
    "    print(f\"Multiplication table for {number}:\")\n",
    "    for i in range(1, up_to + 1):\n",
    "        print(f\"{number} x {i} = {number * i}\")\n",
    "\n",
    "# Example usage\n",
    "number = 7\n",
    "\n",
    "print_multiplication_table(number)\n"
   ]
  },
  {
   "cell_type": "markdown",
   "id": "5248c1c6-9ad7-49b5-aabf-d60709514b75",
   "metadata": {},
   "source": [
    "# 16) Write a python program that finds the sum of all even numbers between 1 and `n`."
   ]
  },
  {
   "cell_type": "code",
   "execution_count": 21,
   "id": "10507fe5-a7d1-41f1-bbd7-07ddbd274462",
   "metadata": {},
   "outputs": [
    {
     "name": "stdout",
     "output_type": "stream",
     "text": [
      "The sum of all even numbers between 1 and 10 is 30.\n"
     ]
    }
   ],
   "source": [
    "# Function to calculate the sum of all even numbers between 1 and n\n",
    "def sum_of_even_numbers(n):\n",
    "    total_sum = 0\n",
    "    for i in range(2, n + 1, 2):  # Start from 2, go up to n, with step 2\n",
    "        total_sum += i\n",
    "    return total_sum\n",
    "\n",
    "# Example usage\n",
    "n = 10\n",
    "\n",
    "result = sum_of_even_numbers(n)\n",
    "print(f\"The sum of all even numbers between 1 and {n} is {result}.\")\n"
   ]
  },
  {
   "cell_type": "markdown",
   "id": "1ea07ab6-a9f0-41be-99ff-a4bc5fcf9660",
   "metadata": {},
   "source": [
    "# 17) Write a python program that reverses a given number."
   ]
  },
  {
   "cell_type": "code",
   "execution_count": 22,
   "id": "61e6e59c-9400-43f6-a7b0-380bbd295d4f",
   "metadata": {},
   "outputs": [
    {
     "name": "stdout",
     "output_type": "stream",
     "text": [
      "The reversed number is 54321.\n"
     ]
    }
   ],
   "source": [
    "# Function to reverse a given number\n",
    "def reverse_number(number):\n",
    "    # Convert the number to a string to reverse it\n",
    "    reversed_number = str(number)[::-1]\n",
    "    # Convert the reversed string back to an integer\n",
    "    return int(reversed_number)\n",
    "\n",
    "# Example usage\n",
    "number = 12345\n",
    "\n",
    "reversed_num = reverse_number(number)\n",
    "print(f\"The reversed number is {reversed_num}.\")\n"
   ]
  },
  {
   "cell_type": "markdown",
   "id": "6dd19ca5-02c7-484c-af94-de706f91a392",
   "metadata": {},
   "source": [
    "# 18) Write a python program that checks if a given string, is a palindrome."
   ]
  },
  {
   "cell_type": "code",
   "execution_count": 23,
   "id": "795b0e80-94c5-4aef-8298-351703a32789",
   "metadata": {},
   "outputs": [
    {
     "name": "stdout",
     "output_type": "stream",
     "text": [
      "\"A man, a plan, a canal, Panama\" is a palindrome.\n"
     ]
    }
   ],
   "source": [
    "# Function to check if a given string is a palindrome\n",
    "def is_palindrome(s):\n",
    "    # Remove any non-alphanumeric characters and convert to lowercase\n",
    "    cleaned_string = ''.join(char.lower() for char in s if char.isalnum())\n",
    "    # Check if the cleaned string is equal to its reverse\n",
    "    return cleaned_string == cleaned_string[::-1]\n",
    "\n",
    "# Example usage\n",
    "string = \"A man, a plan, a canal, Panama\"\n",
    "\n",
    "if is_palindrome(string):\n",
    "    print(f'\"{string}\" is a palindrome.')\n",
    "else:\n",
    "    print(f'\"{string}\" is not a palindrome.')\n"
   ]
  },
  {
   "cell_type": "markdown",
   "id": "b863f98f-2e5d-407f-ba6d-48240eb24e5e",
   "metadata": {},
   "source": [
    "# 19) Write a python program that generates a random number and allows the user to guess it"
   ]
  },
  {
   "cell_type": "code",
   "execution_count": null,
   "id": "bb0883b2-b9cc-4f25-b5f7-274e033157b4",
   "metadata": {},
   "outputs": [
    {
     "name": "stdout",
     "output_type": "stream",
     "text": [
      "Guess the number between 1 and 100\n"
     ]
    },
    {
     "name": "stdin",
     "output_type": "stream",
     "text": [
      "Enter your guess:  55\n"
     ]
    },
    {
     "name": "stdout",
     "output_type": "stream",
     "text": [
      "Too low! Try again.\n"
     ]
    },
    {
     "name": "stdin",
     "output_type": "stream",
     "text": [
      "Enter your guess:  0\n"
     ]
    },
    {
     "name": "stdout",
     "output_type": "stream",
     "text": [
      "Too low! Try again.\n"
     ]
    },
    {
     "name": "stdin",
     "output_type": "stream",
     "text": [
      "Enter your guess:  44\n"
     ]
    },
    {
     "name": "stdout",
     "output_type": "stream",
     "text": [
      "Too low! Try again.\n"
     ]
    },
    {
     "name": "stdin",
     "output_type": "stream",
     "text": [
      "Enter your guess:  44\n"
     ]
    },
    {
     "name": "stdout",
     "output_type": "stream",
     "text": [
      "Too low! Try again.\n"
     ]
    }
   ],
   "source": [
    "import random\n",
    "\n",
    "def guess_the_number():\n",
    "    # Generate a random number between 1 and 100\n",
    "    number_to_guess = random.randint(1, 100)\n",
    "    attempts = 0\n",
    "    \n",
    "    print(\"Guess the number between 1 and 100\")\n",
    "\n",
    "    while True:\n",
    "        try:\n",
    "            # Get user input\n",
    "            user_guess = int(input(\"Enter your guess: \"))\n",
    "            attempts += 1\n",
    "\n",
    "            # Check if the guess is correct\n",
    "            if user_guess < number_to_guess:\n",
    "                print(\"Too low! Try again.\")\n",
    "            elif user_guess > number_to_guess:\n",
    "                print(\"Too high! Try again.\")\n",
    "            else:\n",
    "                print(f\"Congratulations! You guessed the number in {attempts} attempts.\")\n",
    "                break  # Exit the loop if the guess is correct\n",
    "        except ValueError:\n",
    "            print(\"Invalid input. Please enter a number.\")\n",
    "\n",
    "# Run the game\n",
    "guess_the_number()\n"
   ]
  },
  {
   "cell_type": "markdown",
   "id": "a8c186fd-f5dd-4ab0-b244-7d5d48e4eb49",
   "metadata": {},
   "source": [
    "# 20) Write a python program that finds the greatest common divisor (GCD) of two numbers."
   ]
  },
  {
   "cell_type": "code",
   "execution_count": null,
   "id": "5296f229-7d25-4ffa-95f3-ba9ce2557e21",
   "metadata": {},
   "outputs": [],
   "source": [
    "# Function to find the greatest common divisor (GCD) using the Euclidean algorithm\n",
    "def gcd(a, b):\n",
    "    while b != 0:\n",
    "        a, b = b, a % b\n",
    "    return a\n",
    "\n",
    "# Example usage\n",
    "num1 = 48\n",
    "num2 = 18\n",
    "\n",
    "result = gcd(num1, num2)\n",
    "print(f\"The GCD of {num1} and {num2} is {result}.\")\n"
   ]
  },
  {
   "cell_type": "code",
   "execution_count": null,
   "id": "1fe3b838-78f8-4a7e-ba60-d90584c76578",
   "metadata": {},
   "outputs": [],
   "source": []
  },
  {
   "cell_type": "code",
   "execution_count": null,
   "id": "da9a05cd-f9b6-47a6-a9ed-7f5a5e9bd594",
   "metadata": {},
   "outputs": [],
   "source": []
  }
 ],
 "metadata": {
  "kernelspec": {
   "display_name": "Python 3 (ipykernel)",
   "language": "python",
   "name": "python3"
  },
  "language_info": {
   "codemirror_mode": {
    "name": "ipython",
    "version": 3
   },
   "file_extension": ".py",
   "mimetype": "text/x-python",
   "name": "python",
   "nbconvert_exporter": "python",
   "pygments_lexer": "ipython3",
   "version": "3.11.7"
  }
 },
 "nbformat": 4,
 "nbformat_minor": 5
}
