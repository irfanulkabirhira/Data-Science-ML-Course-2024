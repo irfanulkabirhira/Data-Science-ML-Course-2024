{
 "cells": [
  {
   "cell_type": "markdown",
   "id": "1de03d4a-6f40-490a-a00e-73a1bcc82990",
   "metadata": {},
   "source": [
    "# In Class - 3"
   ]
  },
  {
   "cell_type": "markdown",
   "id": "1fab3db2-169e-46ec-b21e-3d718fa6512b",
   "metadata": {},
   "source": [
    "### Break Satement and Continue Statement "
   ]
  },
  {
   "cell_type": "code",
   "execution_count": 12,
   "id": "f77577fd-0dd3-4c16-a777-ff451f4561d1",
   "metadata": {},
   "outputs": [
    {
     "name": "stdout",
     "output_type": "stream",
     "text": [
      "The Value is  0\n",
      "The Value is  1\n",
      "The Value is  2\n",
      "The Value is  3\n",
      "The Value is  4\n",
      "The Value is  5\n",
      "The Value is  6\n",
      "\n",
      "The Valeu is  0\n",
      "The Valeu is  1\n",
      "The Valeu is  2\n",
      "The Valeu is  3\n",
      "The Valeu is  4\n",
      "The Valeu is  5\n",
      "The Valeu is  6\n",
      "The Valeu is  8\n",
      "The Valeu is  9\n"
     ]
    }
   ],
   "source": [
    "# Break Statement --> jeta cacci sheta pai gelei stop \n",
    "\n",
    "for i in range(10):\n",
    "    if i==7:\n",
    "        break\n",
    "    print(\"The Value is \", i)\n",
    "\n",
    "print()\n",
    "#Continue Statemet --> jeta te continu statement caalabo , that will be skip\n",
    "\n",
    "for j in range(10):\n",
    "    if j==7:\n",
    "        continue\n",
    "    print(\"The Valeu is \",j)"
   ]
  },
  {
   "cell_type": "markdown",
   "id": "daac15ca-c8f9-4c09-87f8-23856bdf09e7",
   "metadata": {},
   "source": [
    "# Break Statement : -> "
   ]
  },
  {
   "cell_type": "code",
   "execution_count": 29,
   "id": "c208a625-bbe0-4c0c-9b40-7cffd90ac845",
   "metadata": {},
   "outputs": [
    {
     "name": "stdout",
     "output_type": "stream",
     "text": [
      "For Break Statement The Values are = (0, 1, 2, 3, 4, 5, 6)\n",
      "\n",
      "For Continue Satements the values are = ('a', 'c', 'd')\n"
     ]
    }
   ],
   "source": [
    "#tuple(break_values) converts the list [0, 1, 2, 3, 4, 5, 6] into the tuple (0, 1, 2, 3, 4, 5, 6).\n",
    "# The append() method is used to add an element to the end of a list\n",
    "\n",
    "break_values = []\n",
    "for i in range(10):\n",
    "    if i == 7:\n",
    "        break\n",
    "    break_values.append(i)\n",
    "print(\"For Break Statement The Values are =\", tuple(break_values))"
   ]
  },
  {
   "cell_type": "markdown",
   "id": "254e78b9-9072-4889-8601-836213bdf841",
   "metadata": {},
   "source": [
    "# Continue Statement : -> "
   ]
  },
  {
   "cell_type": "code",
   "execution_count": 30,
   "id": "57a8272e-4a11-47ff-bd5f-2bdb9ee9507c",
   "metadata": {},
   "outputs": [
    {
     "name": "stdout",
     "output_type": "stream",
     "text": [
      "For Continue Statement The Values are = (0, 1, 2, 3, 4, 5, 6, 8, 9)\n",
      "\n",
      "For Continue Satements the values are = ('a', 'c', 'd')\n"
     ]
    }
   ],
   "source": [
    "#tuple(break_values) converts the list [0, 1, 2, 3, 4, 5, 6] into the tuple (0, 1, 2, 3, 4, 5, 6).\n",
    "# The append() method is used to add an element to the end of a list\n",
    "\n",
    "continue_values = []\n",
    "for j in range(10):\n",
    "    if j == 7:\n",
    "        continue\n",
    "    continue_values.append(j)\n",
    "\n",
    "print(\"For Continue Statement The Values are =\", tuple(continue_values))\n",
    "\n",
    "\n",
    "print()\n",
    "\n",
    "continue_value =[]\n",
    "data = ['a', 'b', 'c', 'd']\n",
    "for i in data:\n",
    "    if i=='b':\n",
    "        continue\n",
    "    continue_value.append(i)\n",
    "print(\"For Continue Satements the values are =\",tuple(continue_value))"
   ]
  },
  {
   "cell_type": "markdown",
   "id": "4ba0ba21-ff78-4881-87fb-d547f020b83f",
   "metadata": {},
   "source": [
    "# Data structure in python "
   ]
  },
  {
   "cell_type": "raw",
   "id": "d1cf099b-13cc-4cfa-9935-77ad6f19491e",
   "metadata": {},
   "source": [
    "*String \n",
    "*List\n",
    "*Tuple\n",
    "*Set\n",
    "*Dictionary"
   ]
  },
  {
   "cell_type": "markdown",
   "id": "4ddbadf7-f38e-414a-9b52-8f7a0c2eef0f",
   "metadata": {},
   "source": [
    "### String "
   ]
  },
  {
   "cell_type": "code",
   "execution_count": 32,
   "id": "726bc426-de4f-4bc7-9e86-4cc5f579b9d6",
   "metadata": {},
   "outputs": [
    {
     "name": "stdout",
     "output_type": "stream",
     "text": [
      "<class 'list'>\n"
     ]
    }
   ],
   "source": [
    "dept = ['Hira', 'Jira', 'Mira']\n",
    "print(type(dept))"
   ]
  },
  {
   "cell_type": "code",
   "execution_count": 34,
   "id": "428b467d-c395-4dba-922d-20a3d3d089fa",
   "metadata": {},
   "outputs": [
    {
     "name": "stdout",
     "output_type": "stream",
     "text": [
      "['Hira', 'Jira', 'Mira'] - <class 'list'>\n"
     ]
    }
   ],
   "source": [
    "# It stands for \"formatted\" and makes string formatting easier, more readable, and faster. \n",
    "# It is particularly useful when you need to include dynamic content in strings.\n",
    "\n",
    "dept = ['Hira', 'Jira', 'Mira']\n",
    "print(f\"{dept} - {type(dept)}\")\n"
   ]
  },
  {
   "cell_type": "raw",
   "id": "cdf4bdab-fdaa-4779-8199-e8a04414a049",
   "metadata": {},
   "source": [
    "Common list method in Python\n",
    "\n",
    "*append()\n",
    "*insert()\n",
    "*remove()\n",
    "*pop()\n",
    "*clear()\n",
    "*index()\n",
    "*count()\n",
    "*sort()\n",
    "*reverse()\n",
    "*copy()"
   ]
  },
  {
   "cell_type": "markdown",
   "id": "d062e6bd-4472-4622-9f9b-012b0da5339d",
   "metadata": {},
   "source": [
    "### append()"
   ]
  },
  {
   "cell_type": "code",
   "execution_count": 35,
   "id": "532f5b92-e608-4c4a-99c2-bf0774bd3c40",
   "metadata": {},
   "outputs": [
    {
     "name": "stdout",
     "output_type": "stream",
     "text": [
      "After append: [1, 2, 3, 4]\n"
     ]
    }
   ],
   "source": [
    "# append(): Adds an element to the end of the list\n",
    "\n",
    "my_list = [1, 2, 3]\n",
    "my_list.append(4)\n",
    "print(\"After append:\", my_list)"
   ]
  },
  {
   "cell_type": "markdown",
   "id": "e6f6731f-b5f1-4b1f-af6b-969564d9d695",
   "metadata": {},
   "source": [
    "### insert()"
   ]
  },
  {
   "cell_type": "code",
   "execution_count": 37,
   "id": "606253ba-307e-4c1a-ae47-2fdc8e7176ef",
   "metadata": {},
   "outputs": [
    {
     "name": "stdout",
     "output_type": "stream",
     "text": [
      "After insert: [1, 'a', 2, 3]\n"
     ]
    }
   ],
   "source": [
    "# insert(): Inserts an element at a specific position\n",
    "\n",
    "my_list = [1, 2, 3]\n",
    "my_list.insert(1, 'a')\n",
    "print(\"After insert:\", my_list)"
   ]
  },
  {
   "cell_type": "markdown",
   "id": "5f76ed33-3a1d-4d56-ac5b-97e6d6299f9e",
   "metadata": {},
   "source": [
    "### remove()"
   ]
  },
  {
   "cell_type": "code",
   "execution_count": 42,
   "id": "7ac61a38-e7ab-4185-ac16-b8838e743bf4",
   "metadata": {},
   "outputs": [
    {
     "name": "stdout",
     "output_type": "stream",
     "text": [
      "After remove: [1, 3, 4]\n"
     ]
    }
   ],
   "source": [
    "# remove(): Removes the first occurrence of a specific elementabs\n",
    "my_list = [1, 2, 3, 4 ]\n",
    "my_list.remove(2)\n",
    "print(\"After remove:\", my_list)"
   ]
  },
  {
   "cell_type": "markdown",
   "id": "80e4da9b-b9a5-4b18-9afe-b8c83fba415b",
   "metadata": {},
   "source": [
    "### pop()"
   ]
  },
  {
   "cell_type": "code",
   "execution_count": null,
   "id": "ff38adc2-bcbf-4a1a-86f0-94442d042ea5",
   "metadata": {},
   "outputs": [],
   "source": [
    "#pop(): Removes and returns an element at a specific position (default is the last element)\n",
    "my_list = [1, 2, 3]\n",
    "popped_element = my_list.pop()\n",
    "print(\"After pop:\", my_list)\n",
    "print(\"Popped element:\", popped_element"
   ]
  },
  {
   "cell_type": "markdown",
   "id": "84546776-8a81-46f5-9abb-9bbd013c475b",
   "metadata": {},
   "source": [
    "# Difference Between Remove and Pop method"
   ]
  },
  {
   "cell_type": "code",
   "execution_count": 49,
   "id": "7b07767d-0d44-4c6f-8438-61918c2d979f",
   "metadata": {},
   "outputs": [
    {
     "name": "stdout",
     "output_type": "stream",
     "text": [
      "4\n",
      "[1, 2, 3]\n",
      "2\n",
      "[1, 3]\n",
      "\n",
      "the below section given the rmeove method()\n",
      "[1, 3, 2, 4]\n"
     ]
    }
   ],
   "source": [
    "'''pop() :\n",
    "\n",
    "By default, pop() removes and returns the last element of the list.\n",
    "-> You can also specify an index to remove and return the element at that specific position.'''\n",
    "\n",
    "my_list = [1, 2, 3, 4]\n",
    "popped_element = my_list.pop()\n",
    "print(popped_element)  # Output: 4\n",
    "print(my_list)         # Output: [1, 2, 3]\n",
    "\n",
    "popped_element = my_list.pop(1)\n",
    "print(popped_element)  # Output: 2\n",
    "print(my_list)         # Output: [1, 3]\n",
    "\n",
    "print ()\n",
    "print(\"the below section given the rmeove method()\")\n",
    "\n",
    "\n",
    "'''remove : \n",
    "\n",
    "You need to provide the value you want to remove, not the index.\n",
    " -> the specified value is not found in the list, it raises a ValueError '''\n",
    "\n",
    "my_list = [1, 2, 3, 2, 4]\n",
    "my_list.remove(2)\n",
    "print(my_list)  # Output: [1, 3, 2, 4]\n",
    "\n",
    "\n",
    "\n"
   ]
  },
  {
   "cell_type": "markdown",
   "id": "9c335644-3c19-4172-a7fb-e74b1de041a2",
   "metadata": {},
   "source": [
    "### clear()"
   ]
  },
  {
   "cell_type": "code",
   "execution_count": 51,
   "id": "747091ab-6042-4f10-a2cf-e0386bdf769b",
   "metadata": {},
   "outputs": [
    {
     "name": "stdout",
     "output_type": "stream",
     "text": [
      "After clear: []\n"
     ]
    }
   ],
   "source": [
    "# clear(): Removes all elements from the list.\n",
    "\n",
    "my_list = [1, 2, 3]\n",
    "my_list.clear()\n",
    "print(\"After clear:\", my_list)"
   ]
  },
  {
   "cell_type": "markdown",
   "id": "40913997-b8cd-41f5-b90a-46d003411554",
   "metadata": {},
   "source": [
    "### index()"
   ]
  },
  {
   "cell_type": "code",
   "execution_count": 73,
   "id": "cbefc805-0c99-4170-a33d-b2ca47c33fea",
   "metadata": {},
   "outputs": [
    {
     "name": "stdout",
     "output_type": "stream",
     "text": [
      "Index of 4: 4\n"
     ]
    }
   ],
   "source": [
    "# index(): Returns the index of the first occurrence of a specific element\n",
    "\n",
    "my_list = [1, 5, 2, 9, 10]\n",
    "index_of_4 = my_list.index(10)\n",
    "print(\"Index of 4:\", index_of_4)\n"
   ]
  },
  {
   "cell_type": "markdown",
   "id": "469de682-a6cf-43e6-a779-b52b0cc875a1",
   "metadata": {},
   "source": [
    "### count()"
   ]
  },
  {
   "cell_type": "code",
   "execution_count": 74,
   "id": "8430b7a2-218e-461a-8f1b-9f9e4a236bed",
   "metadata": {},
   "outputs": [
    {
     "name": "stdout",
     "output_type": "stream",
     "text": [
      "Count of 1: 4\n"
     ]
    }
   ],
   "source": [
    "#count(): Returns the number of occurrences of a specific element.\n",
    "my_list = [1, 2, 3, 2, 2,1,1,5,1]\n",
    "count_of_1 = my_list.count(1)\n",
    "print(\"Count of 1:\", count_of_1)"
   ]
  },
  {
   "cell_type": "markdown",
   "id": "93636c5a-1ef5-4a4e-b7f0-f12413804c98",
   "metadata": {},
   "source": [
    "### sort()"
   ]
  },
  {
   "cell_type": "code",
   "execution_count": 75,
   "id": "886f4098-2fa8-45c5-92e0-9483ba135ab3",
   "metadata": {},
   "outputs": [
    {
     "name": "stdout",
     "output_type": "stream",
     "text": [
      "After sort (ascending): [1, 2, 3]\n",
      "After sort (descending): [3, 2, 1]\n"
     ]
    }
   ],
   "source": [
    "# sort(): Sorts the list in ascending order (can also sort in descending order if specified)\n",
    "my_list = [3, 1, 2]\n",
    "my_list.sort()\n",
    "print(\"After sort (ascending):\", my_list)\n",
    "# Output: After sort (ascending): [1, 2, 3]\n",
    "\n",
    "my_list.sort(reverse=True)\n",
    "print(\"After sort (descending):\", my_list)\n",
    "# Output: After sort (descending): [3, 2, 1]\n"
   ]
  },
  {
   "cell_type": "markdown",
   "id": "e29f380b-635c-4de8-8b47-5388794442fa",
   "metadata": {},
   "source": [
    "### reverse()"
   ]
  },
  {
   "cell_type": "code",
   "execution_count": 76,
   "id": "220c7790-76c7-4301-8e78-447cda279233",
   "metadata": {},
   "outputs": [
    {
     "name": "stdout",
     "output_type": "stream",
     "text": [
      "Original list: [1, 2, 3]\n",
      "Copied list: [1, 2, 3]\n"
     ]
    }
   ],
   "source": [
    "# reverse(): Reverses the order of elements in the list\n",
    "my_list = [1, 2, 3]\n",
    "copied_list = my_list.copy()\n",
    "print(\"Original list:\", my_list)\n",
    "print(\"Copied list:\", copied_list)\n",
    "# Output: Original list: [1, 2, 3]\n",
    "# Output: Copied list: [1, 2, 3]\n"
   ]
  },
  {
   "cell_type": "markdown",
   "id": "da1db81e-5d59-48a0-8fd2-c9d99df8b5c0",
   "metadata": {},
   "source": [
    "### copy()"
   ]
  },
  {
   "cell_type": "code",
   "execution_count": 78,
   "id": "26d71406-1d4a-425a-ac19-b83bb936ece8",
   "metadata": {},
   "outputs": [
    {
     "name": "stdout",
     "output_type": "stream",
     "text": [
      "Original list: [1, 2, 3]\n",
      "Copied list: [1, 2, 3]\n"
     ]
    }
   ],
   "source": [
    "# copy(): Returns a shallow copy of the list.\n",
    "my_list = [1, 2, 3]\n",
    "copied_list = my_list.copy()\n",
    "print(\"Original list:\", my_list)\n",
    "print(\"Copied list:\", copied_list)\n",
    "# Output: Original list: [1, 2, 3]\n",
    "# Output: Copied list: [1, 2, 3]"
   ]
  },
  {
   "cell_type": "markdown",
   "id": "b557de6c-4dde-4c54-9476-105af8d24092",
   "metadata": {},
   "source": [
    "# Tuples in Python "
   ]
  },
  {
   "cell_type": "raw",
   "id": "e515b0dc-5ea4-480a-b16b-72829fa54535",
   "metadata": {},
   "source": [
    "Tuples in Python are a type of collection that is similar to lists but with a few key differences\n",
    "\n",
    "Characteristics of Tuples:\n",
    "\n",
    "   -> Immutable: Once created, tuples cannot be modified. You cannot add, remove, or change elements in a tuple after its creation.\n",
    "   -> Ordered: Tuples maintain the order of elements. You can access elements using indices.\n",
    "   ->Allow Duplicates: Tuples can contain duplicate values.\n",
    "   ->Iterable: You can iterate over tuples using loops.\n",
    "\n",
    "Tuples are created using parentheses () or without any parentheses for single-element tuples. "
   ]
  },
  {
   "cell_type": "code",
   "execution_count": 79,
   "id": "1e83ea8e-8b66-4c25-8966-b86b4a19615b",
   "metadata": {},
   "outputs": [
    {
     "name": "stdout",
     "output_type": "stream",
     "text": [
      "(1, 2, 3, 4)\n",
      "(1,)\n",
      "(1, 2, 3, 4)\n"
     ]
    }
   ],
   "source": [
    "# Creating a tuple\n",
    "my_tuple = (1, 2, 3, 4)\n",
    "print(my_tuple)  # Output: (1, 2, 3, 4)\n",
    "\n",
    "# Creating a tuple with a single element\n",
    "single_element_tuple = (1,)\n",
    "print(single_element_tuple)  # Output: (1,)\n",
    "\n",
    "# Creating a tuple without parentheses\n",
    "another_tuple = 1, 2, 3, 4\n",
    "print(another_tuple)  # Output: (1, 2, 3, 4)\n"
   ]
  },
  {
   "cell_type": "markdown",
   "id": "36f9a01e-2936-487f-8c8d-6eba39dc27d4",
   "metadata": {},
   "source": [
    " # Tuple Slicing in python "
   ]
  },
  {
   "cell_type": "markdown",
   "id": "04a6411d-1ce6-4b77-ae73-6b180b0d04c5",
   "metadata": {},
   "source": [
    "### Basic Slicing:"
   ]
  },
  {
   "cell_type": "code",
   "execution_count": 80,
   "id": "4561cafb-d19d-4cd5-b6b1-681257f5b807",
   "metadata": {},
   "outputs": [
    {
     "name": "stdout",
     "output_type": "stream",
     "text": [
      "(2, 3, 4, 5)\n"
     ]
    }
   ],
   "source": [
    "my_tuple = (0, 1, 2, 3, 4, 5, 6, 7, 8, 9)\n",
    "\n",
    "# Slice from index 2 to 5\n",
    "slice1 = my_tuple[2:6]\n",
    "print(slice1)  # Output: (2, 3, 4, 5)\n"
   ]
  },
  {
   "cell_type": "markdown",
   "id": "8576bd56-8fb9-4e18-96fd-354af0adeb51",
   "metadata": {},
   "source": [
    "### Omitting Start or Stop"
   ]
  },
  {
   "cell_type": "code",
   "execution_count": 81,
   "id": "6af0ad56-3f05-490b-947e-84e439133c50",
   "metadata": {},
   "outputs": [
    {
     "name": "stdout",
     "output_type": "stream",
     "text": [
      "(0, 1, 2, 3, 4)\n",
      "(5, 6, 7, 8, 9)\n"
     ]
    }
   ],
   "source": [
    "my_tuple = (0, 1, 2, 3, 4, 5, 6, 7, 8, 9)\n",
    "\n",
    "# Slice from the beginning to index 4 (exclusive)\n",
    "slice2 = my_tuple[:5]\n",
    "print(slice2)  # Output: (0, 1, 2, 3, 4)\n",
    "\n",
    "# Slice from index 5 to the end\n",
    "slice3 = my_tuple[5:]\n",
    "print(slice3)  # Output: (5, 6, 7, 8, 9)\n"
   ]
  },
  {
   "cell_type": "markdown",
   "id": "2e054983-7ee1-4c49-87be-bc2d8fa1c3eb",
   "metadata": {},
   "source": [
    "### Using Step:"
   ]
  },
  {
   "cell_type": "code",
   "execution_count": 82,
   "id": "bc5967f8-54eb-428d-b8fa-abe3c375abb9",
   "metadata": {},
   "outputs": [
    {
     "name": "stdout",
     "output_type": "stream",
     "text": [
      "(1, 3, 5, 7)\n",
      "(8, 6, 4, 2)\n"
     ]
    }
   ],
   "source": [
    "my_tuple = (0, 1, 2, 3, 4, 5, 6, 7, 8, 9)\n",
    "\n",
    "# Slice with a step of 2\n",
    "slice5 = my_tuple[1:8:2]\n",
    "print(slice5)  # Output: (1, 3, 5, 7)\n",
    "\n",
    "# Slice with a negative step (reverses the order)\n",
    "slice6 = my_tuple[8:1:-2]\n",
    "print(slice6)  # Output: (8, 6, 4, 2)\n"
   ]
  },
  {
   "cell_type": "markdown",
   "id": "2254fc94-5f69-4fb3-acbc-bbe82239dfc8",
   "metadata": {},
   "source": [
    "### Full Tuple Slicing:"
   ]
  },
  {
   "cell_type": "code",
   "execution_count": 83,
   "id": "39d3374c-13a7-40b7-9219-4e010327567a",
   "metadata": {},
   "outputs": [
    {
     "name": "stdout",
     "output_type": "stream",
     "text": [
      "(0, 1, 2, 3, 4, 5, 6, 7, 8, 9)\n"
     ]
    }
   ],
   "source": [
    "my_tuple = (0, 1, 2, 3, 4, 5, 6, 7, 8, 9)\n",
    "\n",
    "# Slice the entire tuple (returns a copy of the tuple)\n",
    "slice7 = my_tuple[:]\n",
    "print(slice7)  # Output: (0, 1, 2, 3, 4, 5, 6, 7, 8, 9)\n"
   ]
  },
  {
   "cell_type": "markdown",
   "id": "e6667c1e-9cbb-46ab-a934-10dc2d9ebdbb",
   "metadata": {},
   "source": [
    "# Sets in python "
   ]
  },
  {
   "cell_type": "markdown",
   "id": "98bb7951-9c3b-4845-b61a-9f036be0ca2d",
   "metadata": {},
   "source": [
    "### Creating Sets in python "
   ]
  },
  {
   "cell_type": "code",
   "execution_count": 84,
   "id": "f211b124-d536-47c9-90d4-18bd37f2eb9b",
   "metadata": {},
   "outputs": [
    {
     "name": "stdout",
     "output_type": "stream",
     "text": [
      "{1, 2, 3, 4, 5}\n",
      "{1, 2, 3, 4, 5}\n"
     ]
    }
   ],
   "source": [
    "# Using curly braces\n",
    "my_set = {1, 2, 3, 4, 5}\n",
    "print(my_set)  # Output: {1, 2, 3, 4, 5}\n",
    "\n",
    "# Using the set() function\n",
    "another_set = set([1, 2, 3, 4, 5])\n",
    "print(another_set)  # Output: {1, 2, 3, 4, 5}\n"
   ]
  },
  {
   "cell_type": "markdown",
   "id": "de17f27b-68b7-4df8-9589-b3a10455b1ff",
   "metadata": {},
   "source": [
    "### Common set operation "
   ]
  },
  {
   "cell_type": "markdown",
   "id": "bd25b96b-4f57-4918-9b38-58d2cdf2c335",
   "metadata": {},
   "source": [
    "#### Adding Elements"
   ]
  },
  {
   "cell_type": "code",
   "execution_count": 85,
   "id": "88092893-4a09-4fa9-a69c-8444140b700e",
   "metadata": {},
   "outputs": [
    {
     "name": "stdout",
     "output_type": "stream",
     "text": [
      "{1, 2, 3, 4}\n"
     ]
    }
   ],
   "source": [
    "my_set = {1, 2, 3}\n",
    "my_set.add(4)\n",
    "print(my_set)  # Output: {1, 2, 3, 4}\n"
   ]
  },
  {
   "cell_type": "markdown",
   "id": "2c48e204-6aa8-4e54-a515-7064a0e204ad",
   "metadata": {},
   "source": [
    "#### Removing Elements"
   ]
  },
  {
   "cell_type": "code",
   "execution_count": 86,
   "id": "027c59d5-30b8-4df5-94ce-20b1b4d44634",
   "metadata": {},
   "outputs": [
    {
     "name": "stdout",
     "output_type": "stream",
     "text": [
      "{1, 2, 4}\n",
      "{1, 4}\n",
      "1\n",
      "{4}\n"
     ]
    }
   ],
   "source": [
    "my_set = {1, 2, 3, 4}\n",
    "\n",
    "# Using remove()\n",
    "my_set.remove(3)\n",
    "print(my_set)  # Output: {1, 2, 4}\n",
    "\n",
    "# Using discard()\n",
    "my_set.discard(2)\n",
    "print(my_set)  # Output: {1, 4}\n",
    "\n",
    "# Using pop()\n",
    "popped_element = my_set.pop()\n",
    "print(popped_element)  # Output: (arbitrary element)\n",
    "print(my_set)          # Output: Set with remaining elements\n"
   ]
  },
  {
   "cell_type": "markdown",
   "id": "b8d38862-6298-4baf-a483-560fbffbd69a",
   "metadata": {},
   "source": [
    "#### Clearing the Set:"
   ]
  },
  {
   "cell_type": "code",
   "execution_count": 87,
   "id": "f0e134aa-81c8-4022-9b49-ef77b0dc17e5",
   "metadata": {},
   "outputs": [
    {
     "name": "stdout",
     "output_type": "stream",
     "text": [
      "set()\n"
     ]
    }
   ],
   "source": [
    "my_set = {1, 2, 3}\n",
    "my_set.clear()\n",
    "print(my_set)  # Output: set()\n"
   ]
  },
  {
   "cell_type": "markdown",
   "id": "97813091-9fb1-4d0c-b83c-0a9157842879",
   "metadata": {},
   "source": [
    "#### Set Length:"
   ]
  },
  {
   "cell_type": "code",
   "execution_count": 88,
   "id": "e803d2be-9790-44e3-95f3-027339cf6348",
   "metadata": {},
   "outputs": [
    {
     "name": "stdout",
     "output_type": "stream",
     "text": [
      "3\n"
     ]
    }
   ],
   "source": [
    "my_set = {1, 2, 3}\n",
    "print(len(my_set))  # Output: 3\n"
   ]
  },
  {
   "cell_type": "markdown",
   "id": "f0450be8-79ce-4524-a16a-b573d5657b89",
   "metadata": {},
   "source": [
    "# Frozen Sets in python "
   ]
  },
  {
   "cell_type": "code",
   "execution_count": 89,
   "id": "c6056995-f5c5-480c-86cb-a1a00d460ceb",
   "metadata": {},
   "outputs": [
    {
     "name": "stdout",
     "output_type": "stream",
     "text": [
      "1\n",
      "2\n",
      "3\n",
      "4\n",
      "5\n"
     ]
    }
   ],
   "source": [
    "my_frozenset = frozenset([1, 2, 3, 4, 5])\n",
    "\n",
    "# Iterating over a frozenset\n",
    "for item in my_frozenset:\n",
    "    print(item)\n"
   ]
  },
  {
   "cell_type": "markdown",
   "id": "b49908a7-9d1a-473c-9d33-48a5b24f674b",
   "metadata": {},
   "source": [
    "#### Frozen in sets operaiton "
   ]
  },
  {
   "cell_type": "code",
   "execution_count": 90,
   "id": "3dea77e7-7e86-421d-b019-1650e87f6a22",
   "metadata": {},
   "outputs": [
    {
     "name": "stdout",
     "output_type": "stream",
     "text": [
      "frozenset({1, 2, 3, 4, 5})\n"
     ]
    }
   ],
   "source": [
    "\n",
    "set1 = frozenset([1, 2, 3])\n",
    "set2 = frozenset([3, 4, 5])\n",
    "union_set = set1 | set2\n",
    "print(union_set)  # Output: frozenset({1, 2, 3, 4, 5})\n"
   ]
  },
  {
   "cell_type": "markdown",
   "id": "c1ef39ba-b619-49ce-8a2b-a80ffc41fca3",
   "metadata": {},
   "source": [
    "# Dictionary "
   ]
  },
  {
   "cell_type": "markdown",
   "id": "07531a56-0bd9-4661-a043-454d61647db2",
   "metadata": {},
   "source": [
    "### Creating Dictionaries:"
   ]
  },
  {
   "cell_type": "code",
   "execution_count": 92,
   "id": "9450c137-1b3b-46e3-82ed-a87bf492577a",
   "metadata": {},
   "outputs": [
    {
     "name": "stdout",
     "output_type": "stream",
     "text": [
      "{'name': 'Alice', 'age': 30, 'city': 'New York'}\n",
      "{'name': 'Bob', 'age': 25, 'city': 'Los Angeles'}\n"
     ]
    }
   ],
   "source": [
    "#You can create dictionaries using curly braces {} or the dict() constructor.\n",
    "# Using curly braces\n",
    "my_dict = {\n",
    "    'name': 'Alice',\n",
    "    'age': 30,\n",
    "    'city': 'New York'\n",
    "}\n",
    "print(my_dict)  # Output: {'name': 'Alice', 'age': 30, 'city': 'New York'}\n",
    "\n",
    "# Using dict() constructor\n",
    "another_dict = dict(name='Bob', age=25, city='Los Angeles')\n",
    "print(another_dict)  # Output: {'name': 'Bob', 'age': 25, 'city': 'Los Angeles'}\n"
   ]
  },
  {
   "cell_type": "markdown",
   "id": "3383dbc5-75fe-471e-b21e-1ff9f9e86acf",
   "metadata": {},
   "source": [
    "### Accessing and Modifying Elements:"
   ]
  },
  {
   "cell_type": "markdown",
   "id": "1b7855d3-43dd-4899-9c85-2b704885fd1d",
   "metadata": {},
   "source": [
    "#### Accessing Values:"
   ]
  },
  {
   "cell_type": "code",
   "execution_count": 93,
   "id": "c343feff-09d5-4d34-9614-2f3b15d20594",
   "metadata": {},
   "outputs": [
    {
     "name": "stdout",
     "output_type": "stream",
     "text": [
      "Alice\n"
     ]
    }
   ],
   "source": [
    "my_dict = {'name': 'Alice', 'age': 30, 'city': 'New York'}\n",
    "print(my_dict['name'])  # Output: Alice"
   ]
  },
  {
   "cell_type": "markdown",
   "id": "aec00d9c-ac04-4ca7-be8b-2c7124cfef63",
   "metadata": {},
   "source": [
    "#### Modifying Values :"
   ]
  },
  {
   "cell_type": "code",
   "execution_count": 94,
   "id": "bc2e14c6-4185-4682-878f-32c165be5ac3",
   "metadata": {},
   "outputs": [
    {
     "name": "stdout",
     "output_type": "stream",
     "text": [
      "{'name': 'Alice', 'age': 31}\n"
     ]
    }
   ],
   "source": [
    "my_dict = {'name': 'Alice', 'age': 30}\n",
    "my_dict['age'] = 31\n",
    "print(my_dict)  # Output: {'name': 'Alice', 'age': 31}\n"
   ]
  },
  {
   "cell_type": "markdown",
   "id": "c0e115b0-b231-4a3c-8122-f64349578a94",
   "metadata": {},
   "source": [
    "### Adding New Key-Value Pairs:"
   ]
  },
  {
   "cell_type": "code",
   "execution_count": 95,
   "id": "dcddfc11-0138-40e8-b6b8-a6863a3350ca",
   "metadata": {},
   "outputs": [
    {
     "name": "stdout",
     "output_type": "stream",
     "text": [
      "{'name': 'Alice', 'age': 30, 'city': 'New York'}\n"
     ]
    }
   ],
   "source": [
    "my_dict = {'name': 'Alice', 'age': 30}\n",
    "my_dict['city'] = 'New York'\n",
    "print(my_dict)  # Output: {'name': 'Alice', 'age': 30, 'city': 'New York'}\n"
   ]
  },
  {
   "cell_type": "markdown",
   "id": "8c36f83d-7b05-41a3-b192-9f3278230354",
   "metadata": {},
   "source": [
    "### Removing Key-Value Pairs:"
   ]
  },
  {
   "cell_type": "code",
   "execution_count": 96,
   "id": "a221efa6-00f4-43f8-89f4-cbd5c249cebf",
   "metadata": {},
   "outputs": [
    {
     "name": "stdout",
     "output_type": "stream",
     "text": [
      "{'name': 'Alice', 'age': 30}\n",
      "30\n",
      "{'name': 'Alice'}\n",
      "('name', 'Alice')\n",
      "{}\n"
     ]
    }
   ],
   "source": [
    "my_dict = {'name': 'Alice', 'age': 30, 'city': 'New York'}\n",
    "\n",
    "# Using del\n",
    "del my_dict['city']\n",
    "print(my_dict)  # Output: {'name': 'Alice', 'age': 30}\n",
    "\n",
    "# Using pop()\n",
    "age = my_dict.pop('age')\n",
    "print(age)  # Output: 30\n",
    "print(my_dict)  # Output: {'name': 'Alice'}\n",
    "\n",
    "# Using popitem() - removes and returns the last added item\n",
    "item = my_dict.popitem()\n",
    "print(item)  # Output: ('name', 'Alice')\n",
    "print(my_dict)  # Output: {}\n"
   ]
  },
  {
   "cell_type": "markdown",
   "id": "6f5b8167-a84f-4aca-a050-4e6664fd13ce",
   "metadata": {},
   "source": [
    "###  Clearing the Dictionary:"
   ]
  },
  {
   "cell_type": "code",
   "execution_count": 97,
   "id": "9f9bc156-d730-4c9e-8b0f-e574c8b0f1c8",
   "metadata": {},
   "outputs": [
    {
     "name": "stdout",
     "output_type": "stream",
     "text": [
      "{}\n"
     ]
    }
   ],
   "source": [
    "my_dict = {'name': 'Alice', 'age': 30}\n",
    "my_dict.clear()\n",
    "print(my_dict)  # Output: {}\n"
   ]
  },
  {
   "cell_type": "markdown",
   "id": "15e165b8-684e-4ba8-81d5-97429243d669",
   "metadata": {},
   "source": [
    "# Datafram --> Pandas"
   ]
  },
  {
   "cell_type": "code",
   "execution_count": 113,
   "id": "f76f4d57-5d9e-4fb5-97fb-315416e46efa",
   "metadata": {},
   "outputs": [],
   "source": [
    "import pandas as pd"
   ]
  },
  {
   "cell_type": "code",
   "execution_count": 114,
   "id": "a9d50e4b-4eb8-4f55-8614-065a3999806f",
   "metadata": {},
   "outputs": [],
   "source": [
    "people = [\n",
    "    [\"Shakila\", 27, \"Hira\"],\n",
    "    [\"ABS\", 25, \"Kabir\"],\n",
    "    [\"Barsha\", 28, \"Irfan\"]\n",
    "]\n"
   ]
  },
  {
   "cell_type": "code",
   "execution_count": 115,
   "id": "b1fa7aef-ea31-415f-9849-329a3c109fbd",
   "metadata": {},
   "outputs": [
    {
     "data": {
      "text/plain": [
       "[['Shakila', 27, 'Hira'], ['ABS', 25, 'Kabir'], ['Barsha', 28, 'Irfan']]"
      ]
     },
     "execution_count": 115,
     "metadata": {},
     "output_type": "execute_result"
    }
   ],
   "source": [
    "people"
   ]
  },
  {
   "cell_type": "code",
   "execution_count": 116,
   "id": "dddce0b0-373b-4dc4-975b-4f59c004a10b",
   "metadata": {},
   "outputs": [],
   "source": [
    "df = pd.DataFrame(people)"
   ]
  },
  {
   "cell_type": "code",
   "execution_count": 117,
   "id": "e03a4042-6699-445d-9b66-5dad7a8aae2f",
   "metadata": {},
   "outputs": [
    {
     "data": {
      "text/html": [
       "<div>\n",
       "<style scoped>\n",
       "    .dataframe tbody tr th:only-of-type {\n",
       "        vertical-align: middle;\n",
       "    }\n",
       "\n",
       "    .dataframe tbody tr th {\n",
       "        vertical-align: top;\n",
       "    }\n",
       "\n",
       "    .dataframe thead th {\n",
       "        text-align: right;\n",
       "    }\n",
       "</style>\n",
       "<table border=\"1\" class=\"dataframe\">\n",
       "  <thead>\n",
       "    <tr style=\"text-align: right;\">\n",
       "      <th></th>\n",
       "      <th>0</th>\n",
       "      <th>1</th>\n",
       "      <th>2</th>\n",
       "    </tr>\n",
       "  </thead>\n",
       "  <tbody>\n",
       "    <tr>\n",
       "      <th>0</th>\n",
       "      <td>Shakila</td>\n",
       "      <td>27</td>\n",
       "      <td>Hira</td>\n",
       "    </tr>\n",
       "    <tr>\n",
       "      <th>1</th>\n",
       "      <td>ABS</td>\n",
       "      <td>25</td>\n",
       "      <td>Kabir</td>\n",
       "    </tr>\n",
       "    <tr>\n",
       "      <th>2</th>\n",
       "      <td>Barsha</td>\n",
       "      <td>28</td>\n",
       "      <td>Irfan</td>\n",
       "    </tr>\n",
       "  </tbody>\n",
       "</table>\n",
       "</div>"
      ],
      "text/plain": [
       "         0   1      2\n",
       "0  Shakila  27   Hira\n",
       "1      ABS  25  Kabir\n",
       "2   Barsha  28  Irfan"
      ]
     },
     "execution_count": 117,
     "metadata": {},
     "output_type": "execute_result"
    }
   ],
   "source": [
    "df"
   ]
  },
  {
   "cell_type": "code",
   "execution_count": 119,
   "id": "5e4b2984-3137-4773-b06e-8b3d44548172",
   "metadata": {},
   "outputs": [],
   "source": [
    "df = pd.DataFrame(people, columns=['Name', 'age', 'city'])"
   ]
  },
  {
   "cell_type": "code",
   "execution_count": 120,
   "id": "7522a920-26cf-4b70-9607-fd81dafcd978",
   "metadata": {},
   "outputs": [
    {
     "data": {
      "text/html": [
       "<div>\n",
       "<style scoped>\n",
       "    .dataframe tbody tr th:only-of-type {\n",
       "        vertical-align: middle;\n",
       "    }\n",
       "\n",
       "    .dataframe tbody tr th {\n",
       "        vertical-align: top;\n",
       "    }\n",
       "\n",
       "    .dataframe thead th {\n",
       "        text-align: right;\n",
       "    }\n",
       "</style>\n",
       "<table border=\"1\" class=\"dataframe\">\n",
       "  <thead>\n",
       "    <tr style=\"text-align: right;\">\n",
       "      <th></th>\n",
       "      <th>Name</th>\n",
       "      <th>age</th>\n",
       "      <th>city</th>\n",
       "    </tr>\n",
       "  </thead>\n",
       "  <tbody>\n",
       "    <tr>\n",
       "      <th>0</th>\n",
       "      <td>Shakila</td>\n",
       "      <td>27</td>\n",
       "      <td>Hira</td>\n",
       "    </tr>\n",
       "    <tr>\n",
       "      <th>1</th>\n",
       "      <td>ABS</td>\n",
       "      <td>25</td>\n",
       "      <td>Kabir</td>\n",
       "    </tr>\n",
       "    <tr>\n",
       "      <th>2</th>\n",
       "      <td>Barsha</td>\n",
       "      <td>28</td>\n",
       "      <td>Irfan</td>\n",
       "    </tr>\n",
       "  </tbody>\n",
       "</table>\n",
       "</div>"
      ],
      "text/plain": [
       "      Name  age   city\n",
       "0  Shakila   27   Hira\n",
       "1      ABS   25  Kabir\n",
       "2   Barsha   28  Irfan"
      ]
     },
     "execution_count": 120,
     "metadata": {},
     "output_type": "execute_result"
    }
   ],
   "source": [
    "df"
   ]
  },
  {
   "cell_type": "markdown",
   "id": "570bbfaf-6e55-4168-821b-082ce8312199",
   "metadata": {},
   "source": [
    "### If i would use Dictionary "
   ]
  },
  {
   "cell_type": "code",
   "execution_count": 135,
   "id": "3741681f-4482-418c-bf47-8c6b54b0db90",
   "metadata": {},
   "outputs": [],
   "source": [
    "people = {\n",
    "    'Name': [\"Shakila\", 27, \"Hira\"],\n",
    "    'Age': [\"ABS\", 25, \"Kabir\"],\n",
    "    'City': [\"Barsha\", 28, \"Irfan\"]\n",
    "}"
   ]
  },
  {
   "cell_type": "code",
   "execution_count": 136,
   "id": "26526593-3da5-4b63-9c47-464ac5f2309d",
   "metadata": {},
   "outputs": [],
   "source": [
    "df = pd.DataFrame(people)"
   ]
  },
  {
   "cell_type": "code",
   "execution_count": 137,
   "id": "bede00fa-28ac-4ce9-87d0-9b53ade5ade8",
   "metadata": {},
   "outputs": [
    {
     "data": {
      "text/html": [
       "<div>\n",
       "<style scoped>\n",
       "    .dataframe tbody tr th:only-of-type {\n",
       "        vertical-align: middle;\n",
       "    }\n",
       "\n",
       "    .dataframe tbody tr th {\n",
       "        vertical-align: top;\n",
       "    }\n",
       "\n",
       "    .dataframe thead th {\n",
       "        text-align: right;\n",
       "    }\n",
       "</style>\n",
       "<table border=\"1\" class=\"dataframe\">\n",
       "  <thead>\n",
       "    <tr style=\"text-align: right;\">\n",
       "      <th></th>\n",
       "      <th>Name</th>\n",
       "      <th>Age</th>\n",
       "      <th>City</th>\n",
       "    </tr>\n",
       "  </thead>\n",
       "  <tbody>\n",
       "    <tr>\n",
       "      <th>0</th>\n",
       "      <td>Shakila</td>\n",
       "      <td>ABS</td>\n",
       "      <td>Barsha</td>\n",
       "    </tr>\n",
       "    <tr>\n",
       "      <th>1</th>\n",
       "      <td>27</td>\n",
       "      <td>25</td>\n",
       "      <td>28</td>\n",
       "    </tr>\n",
       "    <tr>\n",
       "      <th>2</th>\n",
       "      <td>Hira</td>\n",
       "      <td>Kabir</td>\n",
       "      <td>Irfan</td>\n",
       "    </tr>\n",
       "  </tbody>\n",
       "</table>\n",
       "</div>"
      ],
      "text/plain": [
       "      Name    Age    City\n",
       "0  Shakila    ABS  Barsha\n",
       "1       27     25      28\n",
       "2     Hira  Kabir   Irfan"
      ]
     },
     "execution_count": 137,
     "metadata": {},
     "output_type": "execute_result"
    }
   ],
   "source": [
    "df"
   ]
  },
  {
   "cell_type": "markdown",
   "id": "b67b1064-eea5-47da-96a9-73f9aafa4abe",
   "metadata": {},
   "source": [
    "#### To Delete this "
   ]
  },
  {
   "cell_type": "code",
   "execution_count": 138,
   "id": "fad3f121-1deb-4901-af39-21d82ccd35a3",
   "metadata": {},
   "outputs": [
    {
     "data": {
      "text/html": [
       "<div>\n",
       "<style scoped>\n",
       "    .dataframe tbody tr th:only-of-type {\n",
       "        vertical-align: middle;\n",
       "    }\n",
       "\n",
       "    .dataframe tbody tr th {\n",
       "        vertical-align: top;\n",
       "    }\n",
       "\n",
       "    .dataframe thead th {\n",
       "        text-align: right;\n",
       "    }\n",
       "</style>\n",
       "<table border=\"1\" class=\"dataframe\">\n",
       "  <thead>\n",
       "    <tr style=\"text-align: right;\">\n",
       "      <th></th>\n",
       "      <th>Name</th>\n",
       "      <th>Age</th>\n",
       "    </tr>\n",
       "  </thead>\n",
       "  <tbody>\n",
       "    <tr>\n",
       "      <th>0</th>\n",
       "      <td>Shakila</td>\n",
       "      <td>ABS</td>\n",
       "    </tr>\n",
       "    <tr>\n",
       "      <th>1</th>\n",
       "      <td>27</td>\n",
       "      <td>25</td>\n",
       "    </tr>\n",
       "    <tr>\n",
       "      <th>2</th>\n",
       "      <td>Hira</td>\n",
       "      <td>Kabir</td>\n",
       "    </tr>\n",
       "  </tbody>\n",
       "</table>\n",
       "</div>"
      ],
      "text/plain": [
       "      Name    Age\n",
       "0  Shakila    ABS\n",
       "1       27     25\n",
       "2     Hira  Kabir"
      ]
     },
     "execution_count": 138,
     "metadata": {},
     "output_type": "execute_result"
    }
   ],
   "source": [
    "#Not Permanently Deleted\n",
    "df.drop(['City'], axis=1)"
   ]
  },
  {
   "cell_type": "code",
   "execution_count": 139,
   "id": "8144f140-5bc3-4022-9513-4919d7a26bf7",
   "metadata": {},
   "outputs": [
    {
     "data": {
      "text/html": [
       "<div>\n",
       "<style scoped>\n",
       "    .dataframe tbody tr th:only-of-type {\n",
       "        vertical-align: middle;\n",
       "    }\n",
       "\n",
       "    .dataframe tbody tr th {\n",
       "        vertical-align: top;\n",
       "    }\n",
       "\n",
       "    .dataframe thead th {\n",
       "        text-align: right;\n",
       "    }\n",
       "</style>\n",
       "<table border=\"1\" class=\"dataframe\">\n",
       "  <thead>\n",
       "    <tr style=\"text-align: right;\">\n",
       "      <th></th>\n",
       "      <th>Name</th>\n",
       "      <th>Age</th>\n",
       "      <th>City</th>\n",
       "    </tr>\n",
       "  </thead>\n",
       "  <tbody>\n",
       "    <tr>\n",
       "      <th>0</th>\n",
       "      <td>Shakila</td>\n",
       "      <td>ABS</td>\n",
       "      <td>Barsha</td>\n",
       "    </tr>\n",
       "    <tr>\n",
       "      <th>1</th>\n",
       "      <td>27</td>\n",
       "      <td>25</td>\n",
       "      <td>28</td>\n",
       "    </tr>\n",
       "    <tr>\n",
       "      <th>2</th>\n",
       "      <td>Hira</td>\n",
       "      <td>Kabir</td>\n",
       "      <td>Irfan</td>\n",
       "    </tr>\n",
       "  </tbody>\n",
       "</table>\n",
       "</div>"
      ],
      "text/plain": [
       "      Name    Age    City\n",
       "0  Shakila    ABS  Barsha\n",
       "1       27     25      28\n",
       "2     Hira  Kabir   Irfan"
      ]
     },
     "execution_count": 139,
     "metadata": {},
     "output_type": "execute_result"
    }
   ],
   "source": [
    "df"
   ]
  },
  {
   "cell_type": "code",
   "execution_count": 140,
   "id": "2f7728f0-e177-4e1c-b73e-127fb5389641",
   "metadata": {},
   "outputs": [],
   "source": [
    "#For permanently Deleted \n",
    "df.drop(['City'], axis=1 , inplace = True)"
   ]
  },
  {
   "cell_type": "code",
   "execution_count": 141,
   "id": "1285db86-d1fb-4bf2-a76a-3a0b87f04a02",
   "metadata": {},
   "outputs": [
    {
     "data": {
      "text/html": [
       "<div>\n",
       "<style scoped>\n",
       "    .dataframe tbody tr th:only-of-type {\n",
       "        vertical-align: middle;\n",
       "    }\n",
       "\n",
       "    .dataframe tbody tr th {\n",
       "        vertical-align: top;\n",
       "    }\n",
       "\n",
       "    .dataframe thead th {\n",
       "        text-align: right;\n",
       "    }\n",
       "</style>\n",
       "<table border=\"1\" class=\"dataframe\">\n",
       "  <thead>\n",
       "    <tr style=\"text-align: right;\">\n",
       "      <th></th>\n",
       "      <th>Name</th>\n",
       "      <th>Age</th>\n",
       "    </tr>\n",
       "  </thead>\n",
       "  <tbody>\n",
       "    <tr>\n",
       "      <th>0</th>\n",
       "      <td>Shakila</td>\n",
       "      <td>ABS</td>\n",
       "    </tr>\n",
       "    <tr>\n",
       "      <th>1</th>\n",
       "      <td>27</td>\n",
       "      <td>25</td>\n",
       "    </tr>\n",
       "    <tr>\n",
       "      <th>2</th>\n",
       "      <td>Hira</td>\n",
       "      <td>Kabir</td>\n",
       "    </tr>\n",
       "  </tbody>\n",
       "</table>\n",
       "</div>"
      ],
      "text/plain": [
       "      Name    Age\n",
       "0  Shakila    ABS\n",
       "1       27     25\n",
       "2     Hira  Kabir"
      ]
     },
     "execution_count": 141,
     "metadata": {},
     "output_type": "execute_result"
    }
   ],
   "source": [
    "df"
   ]
  },
  {
   "cell_type": "code",
   "execution_count": null,
   "id": "c5d35974-e6c8-42ea-b7c7-a092e01cd84b",
   "metadata": {},
   "outputs": [],
   "source": []
  },
  {
   "cell_type": "code",
   "execution_count": null,
   "id": "12ff47af-8865-4c83-a080-499e322267cb",
   "metadata": {},
   "outputs": [],
   "source": []
  },
  {
   "cell_type": "code",
   "execution_count": null,
   "id": "d96eac09-65c8-4cfd-b365-55aa5ace0cff",
   "metadata": {},
   "outputs": [],
   "source": []
  },
  {
   "cell_type": "code",
   "execution_count": null,
   "id": "ec9329f3-2b77-4bea-b19f-68a6bf8ac8d0",
   "metadata": {},
   "outputs": [],
   "source": []
  },
  {
   "cell_type": "code",
   "execution_count": null,
   "id": "78ecc39f-7a9a-4c4a-b7b6-c3ca53b6d87a",
   "metadata": {},
   "outputs": [],
   "source": []
  },
  {
   "cell_type": "code",
   "execution_count": null,
   "id": "ae30a76b-65af-41f4-bd86-96c9b28c89c2",
   "metadata": {},
   "outputs": [],
   "source": []
  },
  {
   "cell_type": "code",
   "execution_count": null,
   "id": "c00bad4c-483b-41ec-a7bb-0de31d6af58b",
   "metadata": {},
   "outputs": [],
   "source": []
  },
  {
   "cell_type": "code",
   "execution_count": null,
   "id": "df5d104f-7dd6-4122-86ab-e3cfd9116e80",
   "metadata": {},
   "outputs": [],
   "source": []
  },
  {
   "cell_type": "code",
   "execution_count": null,
   "id": "d1b0ae44-022d-4fb4-9c0c-54bfa12d0726",
   "metadata": {},
   "outputs": [],
   "source": []
  },
  {
   "cell_type": "code",
   "execution_count": null,
   "id": "ca4de543-9b59-4270-bea7-f53e3e86f58e",
   "metadata": {},
   "outputs": [],
   "source": []
  },
  {
   "cell_type": "code",
   "execution_count": null,
   "id": "213e6293-ecef-4567-9c84-502df596a112",
   "metadata": {},
   "outputs": [],
   "source": []
  },
  {
   "cell_type": "code",
   "execution_count": null,
   "id": "0ad1309c-ed26-4064-8cfa-c5d8ab297449",
   "metadata": {},
   "outputs": [],
   "source": []
  },
  {
   "cell_type": "code",
   "execution_count": null,
   "id": "17c1e836-96a0-4f37-8139-db72fb9ae1e9",
   "metadata": {},
   "outputs": [],
   "source": []
  },
  {
   "cell_type": "code",
   "execution_count": null,
   "id": "d7b7897b-154c-4652-8c52-e50ca5a1bd88",
   "metadata": {},
   "outputs": [],
   "source": []
  },
  {
   "cell_type": "code",
   "execution_count": null,
   "id": "d1bcb082-80f3-4153-819d-5d83583b91e9",
   "metadata": {},
   "outputs": [],
   "source": []
  },
  {
   "cell_type": "code",
   "execution_count": null,
   "id": "34f707ce-b55e-49a3-ad62-7a643c8e8262",
   "metadata": {},
   "outputs": [],
   "source": []
  },
  {
   "cell_type": "code",
   "execution_count": null,
   "id": "b25e3ec7-41f9-4488-b233-ee0ffb07ed60",
   "metadata": {},
   "outputs": [],
   "source": []
  },
  {
   "cell_type": "code",
   "execution_count": null,
   "id": "cd22837b-0170-4219-b74c-18e60b34433c",
   "metadata": {},
   "outputs": [],
   "source": []
  },
  {
   "cell_type": "code",
   "execution_count": null,
   "id": "0dc4b72c-fb06-4e37-b789-42a8216043dd",
   "metadata": {},
   "outputs": [],
   "source": []
  },
  {
   "cell_type": "code",
   "execution_count": null,
   "id": "017c7dbe-f742-46f2-9b25-4379126dd3ff",
   "metadata": {},
   "outputs": [],
   "source": []
  },
  {
   "cell_type": "code",
   "execution_count": null,
   "id": "94f76499-c5fc-48e3-940a-a46b21a3bce3",
   "metadata": {},
   "outputs": [],
   "source": []
  },
  {
   "cell_type": "code",
   "execution_count": null,
   "id": "530a3e70-c353-4ba4-a5a1-6edb4154ba65",
   "metadata": {},
   "outputs": [],
   "source": []
  }
 ],
 "metadata": {
  "kernelspec": {
   "display_name": "Python 3 (ipykernel)",
   "language": "python",
   "name": "python3"
  },
  "language_info": {
   "codemirror_mode": {
    "name": "ipython",
    "version": 3
   },
   "file_extension": ".py",
   "mimetype": "text/x-python",
   "name": "python",
   "nbconvert_exporter": "python",
   "pygments_lexer": "ipython3",
   "version": "3.12.3"
  }
 },
 "nbformat": 4,
 "nbformat_minor": 5
}
